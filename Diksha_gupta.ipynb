{
  "nbformat": 4,
  "nbformat_minor": 0,
  "metadata": {
    "colab": {
      "name": " Diksha gupta.ipynb",
      "provenance": []
    },
    "kernelspec": {
      "name": "python3",
      "display_name": "Python 3"
    },
    "language_info": {
      "name": "python"
    }
  },
  "cells": [
    {
      "cell_type": "markdown",
      "metadata": {
        "id": "MW-tNntG9p6f"
      },
      "source": [
        " We generally start our code by importing the libreries which will throughout the program"
      ]
    },
    {
      "cell_type": "code",
      "metadata": {
        "id": "5uT9mEqr-d9u"
      },
      "source": [
        "import numpy as np\n",
        "import pandas as pd\n",
        "import sklearn"
      ],
      "execution_count": null,
      "outputs": []
    },
    {
      "cell_type": "markdown",
      "metadata": {
        "id": "rKLQfKq3_C7E"
      },
      "source": [
        "Now we load the data that we will be using to train our model"
      ]
    },
    {
      "cell_type": "markdown",
      "metadata": {
        "id": "JRCyIy21_Uns"
      },
      "source": [
        " Here we are using boston house pricing dataset which is available in the sklearn library itself"
      ]
    },
    {
      "cell_type": "code",
      "metadata": {
        "id": "ElOE1c9-AJd7"
      },
      "source": [
        "from sklearn.datasets import load_boston\n",
        "df = load_boston()"
      ],
      "execution_count": null,
      "outputs": []
    },
    {
      "cell_type": "code",
      "metadata": {
        "id": "CKPdiz-GAvMe",
        "colab": {
          "base_uri": "https://localhost:8080/"
        },
        "outputId": "aa84761d-5593-491f-b831-934d6a4ab9cc"
      },
      "source": [
        "df.keys() #Return all the keys of the dataset dictionary"
      ],
      "execution_count": null,
      "outputs": [
        {
          "output_type": "execute_result",
          "data": {
            "text/plain": [
              "dict_keys(['data', 'target', 'feature_names', 'DESCR', 'filename'])"
            ]
          },
          "metadata": {
            "tags": []
          },
          "execution_count": 10
        }
      ]
    },
    {
      "cell_type": "code",
      "metadata": {
        "id": "ISnq1qISF1lw"
      },
      "source": [
        "print(df.DESCR) #Info about the dataset"
      ],
      "execution_count": null,
      "outputs": []
    },
    {
      "cell_type": "code",
      "metadata": {
        "id": "opbVPht9BEBt",
        "colab": {
          "base_uri": "https://localhost:8080/"
        },
        "outputId": "35d5ba46-9a0c-425d-95cb-9effa264b4fc"
      },
      "source": [
        "print(df.feature_names) #Info about the dataset"
      ],
      "execution_count": null,
      "outputs": [
        {
          "output_type": "stream",
          "text": [
            "['CRIM' 'ZN' 'INDUS' 'CHAS' 'NOX' 'RM' 'AGE' 'DIS' 'RAD' 'TAX' 'PTRATIO'\n",
            " 'B' 'LSTAT']\n"
          ],
          "name": "stdout"
        }
      ]
    },
    {
      "cell_type": "markdown",
      "metadata": {
        "id": "_xM_HSmi_Htq"
      },
      "source": [
        "We convert  our dataset into the pandas dataframe, so that it is easier to analyse the data"
      ]
    },
    {
      "cell_type": "code",
      "metadata": {
        "id": "yhxk1MgNB2UM"
      },
      "source": [
        " boston = pd.DataFrame(df.data, columns=df.feature_names)\n",
        " boston.head()"
      ],
      "execution_count": null,
      "outputs": []
    },
    {
      "cell_type": "markdown",
      "metadata": {
        "id": "YXtvfMrlJ90T"
      },
      "source": [
        "Adding a new column of target values to the dataframe"
      ]
    },
    {
      "cell_type": "code",
      "metadata": {
        "id": "bZZrNjd5KIc7"
      },
      "source": [
        " boston['MEDV'] = df.target \n",
        " boston.head()"
      ],
      "execution_count": null,
      "outputs": []
    },
    {
      "cell_type": "markdown",
      "metadata": {
        "id": "cjgL3UrwLWaG"
      },
      "source": [
        "Check if the dataset contains any null value or not"
      ]
    },
    {
      "cell_type": "code",
      "metadata": {
        "id": "DWnBIqcWLeh_"
      },
      "source": [
        " boston.isnull()"
      ],
      "execution_count": null,
      "outputs": []
    },
    {
      "cell_type": "markdown",
      "metadata": {
        "id": "o7-7OdjPL3dI"
      },
      "source": [
        "isnull return true or false for each of the cell in the dataframe, but we can't go exploring all the cells to look for True values of any,so we use sum() function to count all the cells with True value (i.e.Null cell)"
      ]
    },
    {
      "cell_type": "code",
      "metadata": {
        "id": "NJ7tWbgEMdS6"
      },
      "source": [
        " boston.isnull().sum()"
      ],
      "execution_count": null,
      "outputs": []
    },
    {
      "cell_type": "markdown",
      "metadata": {
        "id": "40HdfPfRSMGZ"
      },
      "source": [
        "We never train the model on all the data that we have,we always make sure to alteast have a test dataset, which is different from the training dataset."
      ]
    },
    {
      "cell_type": "code",
      "metadata": {
        "id": "sHLBCJVDShi3"
      },
      "source": [
        " from sklearn.model_selection import train_test_split\n",
        " \n",
        " X = boston.drop('MEDV', axis=1)\n",
        " Y = boston['MEDV']\n",
        " \n",
        " X_train, X_test, Y_train, Y_test = train_test_split(X,Y,test_size = 0.15, random_state=5)\n",
        " print(X_train.shape)\n",
        " print(X_test.shape)\n",
        " print(Y_train.shape)\n",
        " print(Y_test.shape)"
      ],
      "execution_count": null,
      "outputs": []
    },
    {
      "cell_type": "markdown",
      "metadata": {
        "id": "I1SCi7LdZ_7d"
      },
      "source": [
        "Now let's import the Linear Regression model from sklearn and train it on the training dataset"
      ]
    },
    {
      "cell_type": "code",
      "metadata": {
        "id": "ZZYyETJYaQN7"
      },
      "source": [
        " from sklearn.linear_model import LinearRegression\n",
        " from sklearn.metrics import mean_squared_error"
      ],
      "execution_count": null,
      "outputs": []
    },
    {
      "cell_type": "code",
      "metadata": {
        "colab": {
          "base_uri": "https://localhost:8080/"
        },
        "id": "S8KEtlxVb7fh",
        "outputId": "08ae0d12-fb88-4ad4-cb43-a407915ac751"
      },
      "source": [
        " ## FITTING MODEL ON THE TRAINING DATASET\n",
        " \n",
        " lin_model = LinearRegression()\n",
        " \n",
        " lin_model.fit(X_train, Y_train)"
      ],
      "execution_count": null,
      "outputs": [
        {
          "output_type": "execute_result",
          "data": {
            "text/plain": [
              "LinearRegression(copy_X=True, fit_intercept=True, n_jobs=None, normalize=False)"
            ]
          },
          "metadata": {
            "tags": []
          },
          "execution_count": 47
        }
      ]
    },
    {
      "cell_type": "code",
      "metadata": {
        "colab": {
          "base_uri": "https://localhost:8080/"
        },
        "id": "a40apu-cdH4m",
        "outputId": "b67490fc-5d39-44fe-ca7d-7909b671d50e"
      },
      "source": [
        " y_train_predict = lin_model.predict(X_train)\n",
        " rmse = (np.sqrt(mean_squared_error(Y_train, y_train_predict)))\n",
        " \n",
        " print(\"The model perform for training set \")\n",
        " print('RMSE is {}'.format(rmse))\n",
        " print(\"\\n\")\n",
        " \n",
        " # on testing set \n",
        " y_test_predict = lin_model.predict(X_test)\n",
        " rmse = ( np.sqrt(mean_squared_error(Y_test, y_test_predict)))\n",
        " \n",
        "print(\"The model performance for testing set\")\n",
        "print('RMSE is {}'.format(rmse))"
      ],
      "execution_count": null,
      "outputs": [
        {
          "output_type": "stream",
          "text": [
            "The model perform for training set \n",
            "RMSE is 4.710901797319796\n",
            "\n",
            "\n",
            "The model performance for testing set\n",
            "RMSE is 4.687543527902972\n"
          ],
          "name": "stdout"
        }
      ]
    }
  ]
}